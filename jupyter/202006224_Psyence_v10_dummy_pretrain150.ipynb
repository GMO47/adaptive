{
 "cells": [
  {
   "cell_type": "code",
   "execution_count": 1,
   "metadata": {},
   "outputs": [],
   "source": [
    "import pandas as pd\n",
    "import numpy as np\n",
    "import matplotlib.pyplot as plt\n",
    "import json"
   ]
  },
  {
   "cell_type": "code",
   "execution_count": 2,
   "metadata": {},
   "outputs": [],
   "source": [
    "s = open(\"../20200622_Psyence_v10_pretrain/pre_dummy_epoch_size150.auto/report/20200622-1508/report.json\", \"r\")\n",
    "j = json.load(s)"
   ]
  },
  {
   "cell_type": "code",
   "execution_count": 3,
   "metadata": {},
   "outputs": [
    {
     "data": {
      "text/html": [
       "<div>\n",
       "<style scoped>\n",
       "    .dataframe tbody tr th:only-of-type {\n",
       "        vertical-align: middle;\n",
       "    }\n",
       "\n",
       "    .dataframe tbody tr th {\n",
       "        vertical-align: top;\n",
       "    }\n",
       "\n",
       "    .dataframe thead th {\n",
       "        text-align: right;\n",
       "    }\n",
       "</style>\n",
       "<table border=\"1\" class=\"dataframe\">\n",
       "  <thead>\n",
       "    <tr style=\"text-align: right;\">\n",
       "      <th></th>\n",
       "      <th>0</th>\n",
       "      <th>1</th>\n",
       "      <th>2</th>\n",
       "      <th>3</th>\n",
       "    </tr>\n",
       "  </thead>\n",
       "  <tbody>\n",
       "    <tr>\n",
       "      <th>0</th>\n",
       "      <td>0</td>\n",
       "      <td>0.527740</td>\n",
       "      <td>159</td>\n",
       "      <td>19</td>\n",
       "    </tr>\n",
       "    <tr>\n",
       "      <th>1</th>\n",
       "      <td>1</td>\n",
       "      <td>0.577403</td>\n",
       "      <td>168</td>\n",
       "      <td>10</td>\n",
       "    </tr>\n",
       "    <tr>\n",
       "      <th>2</th>\n",
       "      <td>2</td>\n",
       "      <td>0.505887</td>\n",
       "      <td>178</td>\n",
       "      <td>0</td>\n",
       "    </tr>\n",
       "    <tr>\n",
       "      <th>3</th>\n",
       "      <td>3</td>\n",
       "      <td>0.494546</td>\n",
       "      <td>178</td>\n",
       "      <td>0</td>\n",
       "    </tr>\n",
       "    <tr>\n",
       "      <th>4</th>\n",
       "      <td>4</td>\n",
       "      <td>0.533810</td>\n",
       "      <td>144</td>\n",
       "      <td>34</td>\n",
       "    </tr>\n",
       "  </tbody>\n",
       "</table>\n",
       "</div>"
      ],
      "text/plain": [
       "   0         1    2   3\n",
       "0  0  0.527740  159  19\n",
       "1  1  0.577403  168  10\n",
       "2  2  0.505887  178   0\n",
       "3  3  0.494546  178   0\n",
       "4  4  0.533810  144  34"
      ]
     },
     "execution_count": 3,
     "metadata": {},
     "output_type": "execute_result"
    }
   ],
   "source": [
    "funcs = [\"0\", \"1\", \"2\", \"3\", \"4\"]\n",
    "data_accuracy_evaluation = []\n",
    "for func in funcs:\n",
    "    value = []\n",
    "    value.append(func)\n",
    "    value.append(j[\"indicator\"][\"test_auc\"][func][0])\n",
    "    value.append(j[\"indicator\"][\"RPsoft\"][func][\"good\"])\n",
    "    value.append(j[\"indicator\"][\"RPsoft\"][func][\"bad\"])\n",
    "    data_accuracy_evaluation.append(value)\n",
    "df_accuracy_evaluation = pd.DataFrame(data=data_accuracy_evaluation)\n",
    "df_accuracy_evaluation.rename(columns={0:\"f\", 1:\"test_auc\", 2:\"good\", 3:\"bad\"})\n",
    "df_accuracy_evaluation.to_csv(\"20200624_Psyence_pretrain150.csv\")\n",
    "df_accuracy_evaluation"
   ]
  },
  {
   "cell_type": "code",
   "execution_count": 4,
   "metadata": {},
   "outputs": [],
   "source": [
    "funcs = [\"0\", \"1\", \"2\", \"3\", \"4\"]\n",
    "indicators = [\"train_loss\", \"train_auc\", \"eval_loss\", \"eval_auc\"]\n",
    "data = []\n",
    "for func in funcs:\n",
    "    value = []\n",
    "    for indicator in indicators:\n",
    "        value.append(j[\"indicator\"][indicator][func])\n",
    "    data.append(value)"
   ]
  },
  {
   "cell_type": "code",
   "execution_count": 5,
   "metadata": {},
   "outputs": [],
   "source": [
    "columns = j[\"indicator\"][\"epoch\"][\"1\"]\n",
    "df_best_auc_func = pd.DataFrame(data=data[1], columns=columns, index=indicators)\n",
    "df_best_auc_func\n",
    "df_best_auc_func.to_csv(\"20200624_Psyence_pretrain150.csv\")"
   ]
  },
  {
   "cell_type": "code",
   "execution_count": 6,
   "metadata": {},
   "outputs": [
    {
     "data": {
      "image/png": "[encoded data removed]",
      "text/plain": [
       "<Figure size 432x288 with 1 Axes>"
      ]
     },
     "metadata": {
      "needs_background": "light"
     },
     "output_type": "display_data"
    }
   ],
   "source": [
    "# 折れ線グラフを出力\n",
    "left = np.array(columns)\n",
    "height1 = np.array(j[\"indicator\"][\"train_loss\"][\"1\"])\n",
    "height2 = np.array(j[\"indicator\"][\"train_auc\"][\"1\"])\n",
    "height3 = np.array(j[\"indicator\"][\"eval_loss\"][\"1\"])\n",
    "height4 = np.array(j[\"indicator\"][\"eval_auc\"][\"1\"])\n",
    "plt.plot(left, height1, label=\"train_loss\")\n",
    "plt.plot(left, height2, label=\"train_auc\")\n",
    "plt.plot(left, height3, label=\"valid_loss\")\n",
    "plt.plot(left, height4, label=\"valid_auc\")\n",
    "plt.grid()\n",
    "plt.legend()\n",
    "plt.title(\"pretrain150\")\n",
    "plt.savefig(\"20200624_Psyence_pretrain150.png\")"
   ]
  }
 ],
 "metadata": {
  "kernelspec": {
   "display_name": "Python 3",
   "language": "python",
   "name": "python3"
  },
  "language_info": {
   "codemirror_mode": {
    "name": "ipython",
    "version": 3
   },
   "file_extension": ".py",
   "mimetype": "text/x-python",
   "name": "python",
   "nbconvert_exporter": "python",
   "pygments_lexer": "ipython3",
   "version": "3.7.6"
  }
 },
 "nbformat": 4,
 "nbformat_minor": 4
}
